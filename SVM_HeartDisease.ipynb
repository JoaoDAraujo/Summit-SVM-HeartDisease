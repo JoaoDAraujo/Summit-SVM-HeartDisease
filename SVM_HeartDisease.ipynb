{
  "nbformat": 4,
  "nbformat_minor": 0,
  "metadata": {
    "colab": {
      "provenance": [],
      "gpuType": "T4"
    },
    "kernelspec": {
      "name": "python3",
      "display_name": "Python 3"
    },
    "language_info": {
      "name": "python"
    },
    "accelerator": "GPU"
  },
  "cells": [
    {
      "cell_type": "markdown",
      "source": [
        "# Atividade SUMMIT - Avaliação Cross Validation\n",
        "\n",
        "## Contexto\n",
        "Na área biomédica, o desenvolvimento de modelos de aprendizado de máquina precisa ser acompanhado de avaliações rigorosas, pois erros podem comprometer interpretações clínicas.\n",
        "A validação cruzada (Cross-Validation, CV) é uma técnica que divide os dados em partes (folds), permitindo testar o modelo em diferentes subconjuntos do dataset. Isso garante uma estimativa mais justa do desempenho do classificador.\n",
        "\n",
        "No entanto, existem diversos tipos de validação cruzada (KFold, StratifiedKFold, ShuffleSplit, Leave-One-Out, etc.), cada um com características próprias. A escolha do tipo de validação pode influenciar os resultados obtidos, alterando tanto a acurácia média quanto a distribuição dos erros (falsos positivos e falsos negativos) na matriz de confusão.\n",
        "\n",
        "## Objetivo\n",
        "O objetivo desta atividade é comparar o desempenho do classificador SVM em dois esquemas de validação:\n",
        "\n",
        "\n",
        "*   KFold-10\n",
        "*   RepeatedKFold (10x3)  \n",
        "\n",
        "\n",
        "Cada grupo deverá analisar se a escolha da estratégia de validação impacta ou não o desempenho do modelo.\n",
        "\n",
        "\n",
        "## Metodologia obrigatória\n",
        "\n",
        "### 1. Pré-processamento\n",
        "\n",
        "  * Padronizar os atributos numéricos com StandardScaler (Pipeline).\n",
        "  Tratar valores ausentes, se existirem.\n",
        "\n",
        "### 2. Modelo\n",
        "\n",
        "  * Classificador SVM (Support Vector Machine).\n",
        "\n",
        "  * Ajuste de hiperparâmetros com GridSearchCV.\n",
        "\n",
        "  * Parâmetros a serem testados:\n",
        "\n",
        "    * C = [0.01, 0.1, 1, 10, 100]\n",
        "\n",
        "    * kernel = [linear, não-lineares]\n",
        "\n",
        "    * gamma = [scale, 0.01, 0.001] (apenas para RBF)\n",
        "\n",
        "### 3. Validação\n",
        "\n",
        "  * Aplicar KFold-10 (comum a todos).\n",
        "\n",
        "  * Comparar com o tipo de CV designado ao grupo (RepeatedKFold).\n",
        "\n",
        "### 4. Avaliação\n",
        "\n",
        "  * Acurácia média (com desvio padrão).\n",
        "\n",
        "  * Matriz de confusão representativa, destacando os erros de classificação (falsos positivos e falsos negativos).\n",
        "\n",
        "## Produto final\n",
        "Cada grupo deverá entregar um resumo científico (300–500 palavras) contendo:\n",
        "\n",
        "Introdução – importância da validação cruzada em modelos biomédicos.\n",
        "\n",
        "Objetivo – comparação entre KFold-10 e o RepeatedKFold.\n",
        "\n",
        "Metodologia – descrição do dataset, pré-processamento, SVM, GridSearchCV e tipos de CV aplicados.\n",
        "\n",
        "Resultados – valores médios de acurácia e matriz de confusão para cada CV.\n",
        "\n",
        "Discussão/Conclusão – interpretação das diferenças (ou semelhanças) entre os dois métodos de validação."
      ],
      "metadata": {
        "id": "zM2Igj_dDlQ9"
      }
    },
    {
      "cell_type": "markdown",
      "source": [
        "# Dataset: Heart Disease\n",
        "\n",
        "O conjunto de dados utilizado neste estudo foi obtido da base pública disponibilizada pelo UCI Machine Learning Repository e também disponível no Kaggle (link para o dataset\n",
        "). Este dataset contém informações clínicas e demográficas de pacientes para auxiliar na predição da presença de doenças cardíacas.\n",
        "\n",
        "Descrição geral:\n",
        "O dataset é composto por amostras de pacientes com variáveis que abrangem dados pessoais, sintomas e resultados de exames médicos, permitindo a construção de modelos preditivos para diagnóstico cardíaco. A variável alvo é a presença ou ausência de doença cardíaca.\n",
        "\n",
        "## Descrição das colunas:\n",
        "\n",
        "\n",
        "- **id:** Identificador único de cada paciente  \n",
        "- **age:** Idade do paciente (anos)  \n",
        "- **origin:** Local de origem ou estudo  \n",
        "- **sex:** Sexo do paciente (Masculino/Feminino)  \n",
        "- **cp:** Tipo de dor no peito (angina típica, angina atípica, não anginosa, assintomática)  \n",
        "- **trestbps:** Pressão arterial em repouso (mm Hg na admissão hospitalar)  \n",
        "- **chol:** Colesterol sérico (mg/dl)  \n",
        "- **fbs:** Açúcar no sangue em jejum (>120 mg/dl: verdadeiro/falso)  \n",
        "- **restecg:** Resultados do eletrocardiograma em repouso (normal, anormalidade ST-T, hipertrofia do VE)  \n",
        "- **thalach:** Frequência cardíaca máxima atingida  \n",
        "- **exang:** Angina induzida por exercício (sim/não)  \n",
        "- **oldpeak:** Depressão do segmento ST induzida por exercício em relação ao repouso  \n",
        "- **slope:** Inclinação do segmento ST no pico do exercício  \n",
        "- **ca:** Número de grandes vasos coronários (0-3) visíveis por fluoroscopia  \n",
        "- **thal:** Estado do tálamo (normal, defeito fixo, defeito reversível)  \n",
        "- **num:** Variável alvo — diagnóstico da doença cardíaca (presença ou ausência)  \n",
        "\n",
        "\n",
        "\n",
        "## Referência para Citação\n",
        "\n",
        "Os autores originais do dataset solicitam que publicações que utilizem esses dados incluam o nome do investigador principal responsável pela coleta dos dados em cada instituição:\n",
        "\n",
        "Hungarian Institute of Cardiology, Budapeste: Andras Janosi, M.D.\n",
        "\n",
        "University Hospital, Zurich, Suíça: William Steinbrunn, M.D.\n",
        "\n",
        "University Hospital, Basel, Suíça: Matthias Pfisterer, M.D.\n",
        "\n",
        "V.A. Medical Center, Long Beach e Cleveland Clinic Foundation: Robert Detrano, M.D., Ph.D."
      ],
      "metadata": {
        "id": "xhWxNq-4FmuJ"
      }
    },
    {
      "cell_type": "markdown",
      "source": [
        "# Modelagem Utilizada\n",
        "\n",
        "- **Validação cruzada:**  \n",
        "  Comparação entre KFold (10 folds) e RepeatedKFold (10 folds, 3 repetições).\n",
        "\n",
        "- **Pré-processamento:**  \n",
        "  Padronização dos atributos numéricos com `StandardScaler` via Pipeline.  \n",
        "  Tratamento de valores ausentes, se houver, preenchendo com mediana após transformação das variáveis categóricas em dummies.\n",
        "\n",
        "- **Classificador:**  \n",
        "  Support Vector Machine (SVM), capaz de lidar com dados lineares e não lineares.\n",
        "\n",
        "- **Otimização de hiperparâmetros:**  \n",
        "  Busca em grade (`GridSearchCV`) para ajustar os parâmetros `C`, `kernel` e `gamma`, utilizando os métodos de validação cruzada para avaliação.\n"
      ],
      "metadata": {
        "id": "CzQgA4sbGDz5"
      }
    },
    {
      "cell_type": "markdown",
      "source": [
        "# Instalação do dataset Heart Disease"
      ],
      "metadata": {
        "id": "g18UcSsCG98W"
      }
    },
    {
      "cell_type": "code",
      "source": [
        "import pandas as pd\n",
        "\n",
        "# Download do arquivo via Google Drive do projeto\n",
        "csv_url = 'https://drive.google.com/uc?id=1cqO_TXww8VW3AC1F1hqVUrm9k8_2StZ4'\n",
        "\n",
        "df_heart = pd.read_csv(csv_url)"
      ],
      "metadata": {
        "collapsed": true,
        "id": "0jqWdyVgHHn6"
      },
      "execution_count": null,
      "outputs": []
    },
    {
      "cell_type": "markdown",
      "source": [
        "# Imports e baselines"
      ],
      "metadata": {
        "id": "t8lgbFAHGMl-"
      }
    },
    {
      "cell_type": "code",
      "execution_count": null,
      "metadata": {
        "id": "ebtg2u57B9Z2"
      },
      "outputs": [],
      "source": [
        "from sklearn.model_selection import RepeatedKFold, KFold, train_test_split, cross_val_score, GridSearchCV\n",
        "from sklearn.preprocessing import StandardScaler\n",
        "from sklearn.pipeline import Pipeline\n",
        "from sklearn.svm import SVC\n",
        "from sklearn.metrics import accuracy_score, ConfusionMatrixDisplay, classification_report, confusion_matrix\n",
        "from sklearn.decomposition import PCA\n",
        "import numpy as np\n",
        "import matplotlib.pyplot as plt\n",
        "\n",
        "RANDOM_STATE = 42\n",
        "\n",
        "def plot_confusion_matrix(model, X_test, y_test, class_names, title):\n",
        "    # Plota a matriz de confusão com matplotlib padrão\n",
        "    disp = ConfusionMatrixDisplay.from_estimator(\n",
        "        model, X_test, y_test, display_labels=class_names\n",
        "    )\n",
        "    plt.title(title)\n",
        "    plt.xlabel(\"Predito\")\n",
        "    plt.ylabel(\"Real\")\n",
        "    plt.show()"
      ]
    },
    {
      "cell_type": "markdown",
      "source": [
        "## Modelagem de dados"
      ],
      "metadata": {
        "id": "ISun683i3Jm4"
      }
    },
    {
      "cell_type": "code",
      "source": [
        "# 1. Apresentar os valores nulos iniciais\n",
        "print(\"Valores nulos por coluna (antes do tratamento):\")\n",
        "print(df_heart.isnull().sum())\n",
        "\n",
        "# 2. Separar features e target\n",
        "X = df_heart.drop(columns=[\"num\"])\n",
        "y = df_heart[\"num\"]\n",
        "\n",
        "# 3. Transformar variáveis categóricas em dummies (mesmo com nulos)\n",
        "X = pd.get_dummies(X, drop_first=True)\n",
        "\n",
        "# 4. Tratar os valores nulos — preencher com a **mediana** das colunas (todas são numéricas agora)\n",
        "X = X.fillna(X.median(numeric_only=True))\n",
        "\n",
        "# 5. Verificar valores nulos após o tratamento\n",
        "print(\"\\nValores nulos por coluna (após tratamento):\")\n",
        "print(X.isnull().sum())\n",
        "\n",
        "# 6. Divisão treino/teste\n",
        "X_train, X_test, y_train, y_test = train_test_split(\n",
        "    X, y, test_size=0.3, stratify=y, random_state=RANDOM_STATE\n",
        ")\n",
        "\n",
        "# 7. Aplicando o StandardScaler\n",
        "scaler = StandardScaler()\n",
        "X_train_scaled = scaler.fit_transform(X_train)\n",
        "X_test_scaled = scaler.transform(X_test)\n",
        "\n",
        "print(\"\\nFormato após scaling:\", X_train_scaled.shape, X_test_scaled.shape)\n"
      ],
      "metadata": {
        "colab": {
          "base_uri": "https://localhost:8080/"
        },
        "id": "YjFChLpu3PmC",
        "outputId": "f6e76335-789d-4b3d-a0e3-d1345eef29c5"
      },
      "execution_count": null,
      "outputs": [
        {
          "output_type": "stream",
          "name": "stdout",
          "text": [
            "Valores nulos por coluna (antes do tratamento):\n",
            "id            0\n",
            "age           0\n",
            "sex           0\n",
            "dataset       0\n",
            "cp            0\n",
            "trestbps     59\n",
            "chol         30\n",
            "fbs          90\n",
            "restecg       2\n",
            "thalch       55\n",
            "exang        55\n",
            "oldpeak      62\n",
            "slope       309\n",
            "ca          611\n",
            "thal        486\n",
            "num           0\n",
            "dtype: int64\n",
            "\n",
            "Valores nulos por coluna (após tratamento):\n",
            "id                          0\n",
            "age                         0\n",
            "trestbps                    0\n",
            "chol                        0\n",
            "thalch                      0\n",
            "oldpeak                     0\n",
            "ca                          0\n",
            "sex_Male                    0\n",
            "dataset_Hungary             0\n",
            "dataset_Switzerland         0\n",
            "dataset_VA Long Beach       0\n",
            "cp_atypical angina          0\n",
            "cp_non-anginal              0\n",
            "cp_typical angina           0\n",
            "fbs_True                    0\n",
            "restecg_normal              0\n",
            "restecg_st-t abnormality    0\n",
            "exang_True                  0\n",
            "slope_flat                  0\n",
            "slope_upsloping             0\n",
            "thal_normal                 0\n",
            "thal_reversable defect      0\n",
            "dtype: int64\n",
            "\n",
            "Formato após scaling: (644, 22) (276, 22)\n"
          ]
        }
      ]
    },
    {
      "cell_type": "markdown",
      "source": [
        "# Divisões de testes - GridSearch"
      ],
      "metadata": {
        "id": "hWhvp6BM7cSC"
      }
    },
    {
      "cell_type": "code",
      "source": [
        "# Definição dos hiperparâmetros\n",
        "param_grid = {\n",
        "    \"svm__C\": [0.01, 0.1, 1, 10, 100],\n",
        "    \"svm__kernel\": [\"linear\", \"rbf\"],        # linear + não linear (RBF)\n",
        "    \"svm__gamma\": [\"scale\", 0.01, 0.001]     # só será usado no RBF\n",
        "}\n",
        "\n",
        "pipe_kernel_i = Pipeline([\n",
        "    (\"scaler\", StandardScaler()),\n",
        "    (\"svm\", SVC(random_state=RANDOM_STATE))\n",
        "])\n",
        "\n",
        "# Configurações dos validadores\n",
        "cv_kfold = KFold(n_splits=10, shuffle=True, random_state=RANDOM_STATE)\n",
        "cv_repeated = RepeatedKFold(n_splits=10, n_repeats=3, random_state=RANDOM_STATE)\n",
        "\n",
        "\n",
        "# Função para rodar grid, avaliar e mostrar matriz de confusão\n",
        "def avaliar_grid(pipeline, X_train, y_train, X_test, y_test, cv, nome_cv):\n",
        "    grid = GridSearchCV(\n",
        "        estimator=pipeline,\n",
        "        param_grid=param_grid,\n",
        "        cv=cv,\n",
        "        scoring=\"accuracy\",\n",
        "        n_jobs=-1\n",
        "    )\n",
        "    grid.fit(X_train, y_train)\n",
        "\n",
        "    print(f\"\\n=== Resultados com {nome_cv} ===\")\n",
        "    print(\"Melhores parâmetros:\", grid.best_params_)\n",
        "    print(\"Acurácia média (cross-val):\", round(grid.best_score_, 4))\n",
        "\n",
        "    # Avaliação no conjunto de teste\n",
        "    y_pred = grid.predict(X_test)\n",
        "    acc_test = grid.score(X_test, y_test)\n",
        "    print(\"Acurácia no teste:\", round(acc_test, 4))\n",
        "\n",
        "    # Matriz de confusão\n",
        "    cm = confusion_matrix(y_test, y_pred)\n",
        "    disp = ConfusionMatrixDisplay(confusion_matrix=cm)\n",
        "    disp.plot(cmap=plt.cm.Blues)\n",
        "    plt.title(f\"Matriz de Confusão - {nome_cv}\")\n",
        "    plt.show()\n",
        "\n",
        "    return grid\n",
        "\n",
        "# Rodar com KFold\n",
        "grid_kfold = avaliar_grid(pipe_kernel_i, X_train, y_train, X_test, y_test, cv_kfold, \"KFold\")\n",
        "\n",
        "# Rodar com RepeatedKFold\n",
        "grid_repeated = avaliar_grid(pipe_kernel_i, X_train, y_train, X_test, y_test, cv_repeated, \"RepeatedKFold\")"
      ],
      "metadata": {
        "colab": {
          "base_uri": "https://localhost:8080/",
          "height": 1000
        },
        "id": "ubF5lljY7gdV",
        "outputId": "460d05b6-bd3d-4f26-a54f-c2562a5600d2"
      },
      "execution_count": null,
      "outputs": [
        {
          "output_type": "stream",
          "name": "stdout",
          "text": [
            "\n",
            "=== Resultados com KFold ===\n",
            "Melhores parâmetros: {'svm__C': 10, 'svm__gamma': 'scale', 'svm__kernel': 'linear'}\n",
            "Acurácia média (cross-val): 0.5962\n",
            "Acurácia no teste: 0.6159\n"
          ]
        },
        {
          "output_type": "display_data",
          "data": {
            "text/plain": [
              "<Figure size 640x480 with 2 Axes>"
            ],
            "image/png": "[encoded data removed]"
          },
          "metadata": {}
        },
        {
          "output_type": "stream",
          "name": "stdout",
          "text": [
            "\n",
            "=== Resultados com RepeatedKFold ===\n",
            "Melhores parâmetros: {'svm__C': 10, 'svm__gamma': 'scale', 'svm__kernel': 'linear'}\n",
            "Acurácia média (cross-val): 0.5981\n",
            "Acurácia no teste: 0.6159\n"
          ]
        },
        {
          "output_type": "display_data",
          "data": {
            "text/plain": [
              "<Figure size 640x480 with 2 Axes>"
            ],
            "image/png": "[encoded data removed]"
          },
          "metadata": {}
        }
      ]
    }
  ]
}